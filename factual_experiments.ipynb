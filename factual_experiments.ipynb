{
 "cells": [
  {
   "cell_type": "code",
   "execution_count": 1,
   "metadata": {},
   "outputs": [],
   "source": [
    "from os import mkdir\n",
    "import shutil\n",
    "import pandas as pd"
   ]
  },
  {
   "cell_type": "code",
   "execution_count": 2,
   "metadata": {},
   "outputs": [],
   "source": [
    "from os import listdir\n",
    "from os.path import isfile, join"
   ]
  },
  {
   "cell_type": "code",
   "execution_count": 3,
   "metadata": {},
   "outputs": [],
   "source": [
    "mypath = './LORE/factual-results/'\n",
    "onlyfiles = [f for f in listdir(mypath) if isfile(join(mypath, f)) and f.endswith('.csv')]\n",
    "\n",
    "all_df = []\n",
    "cols = ['fidelity', 'hit', 'k_fid_3', 'k_fid_5', 'k_fid_7', 'perf']\n",
    "\n",
    "for file in onlyfiles:\n",
    "    df = pd.read_csv(mypath + file, header=None, names=cols)\n",
    "    ds, db, idx, algo = file[:-4].split('_')[2:6]\n",
    "    df['ds'], df['bb'], df['idx'], df['algo'] = ds, db, idx, algo\n",
    "\n",
    "    all_df.append(df)\n"
   ]
  },
  {
   "cell_type": "code",
   "execution_count": 4,
   "metadata": {},
   "outputs": [],
   "source": [
    "mypath = './factual-flare-results/'\n",
    "onlyfiles = [f for f in listdir(mypath) if isfile(join(mypath, f)) and f.endswith('.csv')]\n",
    "\n",
    "for file in onlyfiles:\n",
    "    df = pd.read_csv(mypath + file, header=None, names=cols)\n",
    "    ds, db, idx, neigh, algo = file[:-4].split('_')[2:]\n",
    "    df['ds'], df['bb'], df['idx'], df['algo'] = ds, db, idx, f'{algo}_{neigh}'\n",
    "\n",
    "    all_df.append(df)"
   ]
  },
  {
   "cell_type": "code",
   "execution_count": 5,
   "metadata": {},
   "outputs": [],
   "source": [
    "# mypath = './factual-neighrange-search-trampa/'\n",
    "# onlyfiles = [f for f in listdir(mypath) if isfile(join(mypath, f))]\n",
    "\n",
    "# for file in onlyfiles:\n",
    "#     df = pd.read_csv(mypath + file, header=None, names=cols)\n",
    "#     ds, db, idx, neigh, algo = file[:-4].split('_')[2:]\n",
    "#     df['ds'], df['bb'], df['idx'], df['algo'] = ds, db, idx, f'{algo}_{neigh}_trampa'\n",
    "\n",
    "#     all_df.append(df)"
   ]
  },
  {
   "cell_type": "code",
   "execution_count": 6,
   "metadata": {},
   "outputs": [],
   "source": [
    "# broken_records =set([\n",
    "#     ('fico', 3005),\n",
    "#     ('compas', 502),\n",
    "#     ('german', 102),\n",
    "#     ('german', 270),\n",
    "#     ('german', 130),\n",
    "#     ('german',  20),\n",
    "#     ('german', 270),\n",
    "#     ('german', 214),\n",
    "#     ('german', 189),\n",
    "#     ('german',  52),\n",
    "#     ('german', 251),\n",
    "#     ('german', 187),\n",
    "#     ('german',  80),\n",
    "#     ('german',  40),\n",
    "#     ('german', 134),\n",
    "#     ('german',  34),\n",
    "# ])\n",
    "\n",
    "# mypath = './factual-neighrange-search/'\n",
    "# onlyfiles = [f for f in listdir(mypath) if isfile(join(mypath, f))]\n",
    "\n",
    "# for file in onlyfiles:\n",
    "#     # df = pd.read_csv(mypath + file, header=None, names=cols)\n",
    "\n",
    "#     ds, db, idx, neigh, algo = file[:-4].split('_')[2:]\n",
    "#     if (ds, int(idx)) in broken_records:\n",
    "#         print(file)\n",
    "#         with open(mypath + file, 'r') as f:\n",
    "#             lines = f.readlines()\n",
    "#             broken = lines[0].split(',')[5]\n",
    "#             fixed = broken.split('.')[0] + '.' + broken.split('.')[1][:-1] + '\\n' + broken.split('.')[1][-1] + '.' + broken.split('.')[2]\n",
    "#             records = lines[0].split(',')\n",
    "#             records[5] = fixed\n",
    "#         with open(mypath + file, 'w') as f:\n",
    "#             f.write(','.join(records))\n",
    "    # df['ds'], df['bb'], df['idx'], df['algo'] = ds, db, idx, f'{algo}_{neigh}'"
   ]
  },
  {
   "cell_type": "code",
   "execution_count": 7,
   "metadata": {},
   "outputs": [],
   "source": [
    "df = pd.concat(all_df)\n"
   ]
  },
  {
   "cell_type": "code",
   "execution_count": 8,
   "metadata": {},
   "outputs": [],
   "source": [
    "# Plot the fidelity of the different algo in df using seaborn\n",
    "\n",
    "import seaborn as sns\n",
    "import matplotlib.pyplot as plt\n",
    "\n",
    "\n",
    "METRICS = ['fidelity', 'hit', 'k_fid_3', 'k_fid_5', 'k_fid_7', 'perf', 'ratio']\n",
    "METRICS_RATIO = [f'{m}_ratio' for m in METRICS if m != 'perf']\n",
    "\n",
    "\n",
    "DATASETS = [\n",
    "    'adult',\n",
    "    'german',\n",
    "    'compas',\n",
    "    'fico'\n",
    "]\n"
   ]
  },
  {
   "cell_type": "code",
   "execution_count": 9,
   "metadata": {},
   "outputs": [],
   "source": [
    "df['ratio'] = 1"
   ]
  },
  {
   "cell_type": "code",
   "execution_count": 10,
   "metadata": {},
   "outputs": [],
   "source": [
    "df.loc[(df['algo'] == 'lore') & (df.ds == 'adult') & (df.bb == 'NN'), 'ratio'] = len(df.loc[(df['algo'] == 'lore') & (df.ds == 'adult') & (df.bb == 'NN')]) / 100\n",
    "df.loc[(df['algo'] == 'lore') & (df.ds == 'adult') & (df.bb == 'SVM'), 'ratio'] = len(df.loc[(df['algo'] == 'lore') & (df.ds == 'adult') & (df.bb == 'SVM')]) / 100\n",
    "df.loc[(df['algo'] == 'lore') & (df.ds == 'compas') & (df.bb == 'NN'), 'ratio'] = len(df.loc[(df['algo'] == 'lore') & (df.ds == 'compas') & (df.bb == 'NN')]) / 100\n",
    "df.loc[(df['algo'] == 'lore') & (df.ds == 'compas') & (df.bb == 'SVM'), 'ratio'] = len(df.loc[(df['algo'] == 'lore') & (df.ds == 'compas') & (df.bb == 'SVM')]) / 100\n",
    "df.loc[(df['algo'] == 'lore') & (df.ds == 'german') & (df.bb == 'NN'), 'ratio'] = len(df.loc[(df['algo'] == 'lore') & (df.ds == 'german') & (df.bb == 'NN')]) / 100\n",
    "df.loc[(df['algo'] == 'lore') & (df.ds == 'german') & (df.bb == 'SVM'), 'ratio'] = len(df.loc[(df['algo'] == 'lore') & (df.ds == 'german') & (df.bb == 'SVM')]) / 100\n",
    "df.loc[(df['algo'] == 'lore') & (df.ds == 'fico') & (df.bb == 'NN'), 'ratio'] = len(df.loc[(df['algo'] == 'lore') & (df.ds == 'fico') & (df.bb == 'NN')]) / 100\n",
    "df.loc[(df['algo'] == 'lore') & (df.ds == 'fico') & (df.bb == 'SVM'), 'ratio'] = len(df.loc[(df['algo'] == 'lore') & (df.ds == 'fico') & (df.bb == 'SVM')]) / 100"
   ]
  },
  {
   "cell_type": "code",
   "execution_count": 11,
   "metadata": {},
   "outputs": [],
   "source": [
    "ndf = df[df.algo == 'lore'].copy()"
   ]
  },
  {
   "cell_type": "code",
   "execution_count": 12,
   "metadata": {},
   "outputs": [],
   "source": [
    "ndf.algo = 'lore_ratio'"
   ]
  },
  {
   "cell_type": "code",
   "execution_count": 13,
   "metadata": {},
   "outputs": [],
   "source": [
    "ndf['fidelity'] = ndf['fidelity'] * ndf['ratio']\n",
    "ndf['hit'] = ndf['hit'] * ndf['ratio']\n",
    "ndf['k_fid_3'] = ndf['k_fid_3'] * ndf['ratio']\n",
    "ndf['k_fid_5'] = ndf['k_fid_5'] * ndf['ratio']\n",
    "ndf['k_fid_7'] = ndf['k_fid_7'] * ndf['ratio']"
   ]
  },
  {
   "cell_type": "code",
   "execution_count": 14,
   "metadata": {},
   "outputs": [],
   "source": [
    "df = pd.concat([df, ndf])"
   ]
  },
  {
   "cell_type": "code",
   "execution_count": 15,
   "metadata": {},
   "outputs": [
    {
     "data": {
      "text/html": [
       "<div>\n",
       "<style scoped>\n",
       "    .dataframe tbody tr th:only-of-type {\n",
       "        vertical-align: middle;\n",
       "    }\n",
       "\n",
       "    .dataframe tbody tr th {\n",
       "        vertical-align: top;\n",
       "    }\n",
       "\n",
       "    .dataframe thead th {\n",
       "        text-align: right;\n",
       "    }\n",
       "</style>\n",
       "<table border=\"1\" class=\"dataframe\">\n",
       "  <thead>\n",
       "    <tr style=\"text-align: right;\">\n",
       "      <th></th>\n",
       "      <th>fidelity</th>\n",
       "      <th>hit</th>\n",
       "      <th>k_fid_3</th>\n",
       "      <th>k_fid_5</th>\n",
       "      <th>k_fid_7</th>\n",
       "      <th>perf</th>\n",
       "      <th>ds</th>\n",
       "      <th>bb</th>\n",
       "      <th>idx</th>\n",
       "      <th>algo</th>\n",
       "      <th>ratio</th>\n",
       "    </tr>\n",
       "  </thead>\n",
       "  <tbody>\n",
       "    <tr>\n",
       "      <th>0</th>\n",
       "      <td>0.850379</td>\n",
       "      <td>1.00</td>\n",
       "      <td>1.00</td>\n",
       "      <td>1.000</td>\n",
       "      <td>1.000000</td>\n",
       "      <td>3.698155</td>\n",
       "      <td>adult</td>\n",
       "      <td>NN</td>\n",
       "      <td>1016</td>\n",
       "      <td>lore</td>\n",
       "      <td>0.84</td>\n",
       "    </tr>\n",
       "    <tr>\n",
       "      <th>0</th>\n",
       "      <td>0.905643</td>\n",
       "      <td>1.00</td>\n",
       "      <td>1.00</td>\n",
       "      <td>1.000</td>\n",
       "      <td>1.000000</td>\n",
       "      <td>3.930308</td>\n",
       "      <td>adult</td>\n",
       "      <td>NN</td>\n",
       "      <td>1021</td>\n",
       "      <td>lore</td>\n",
       "      <td>0.84</td>\n",
       "    </tr>\n",
       "    <tr>\n",
       "      <th>0</th>\n",
       "      <td>0.741876</td>\n",
       "      <td>1.00</td>\n",
       "      <td>1.00</td>\n",
       "      <td>1.000</td>\n",
       "      <td>1.000000</td>\n",
       "      <td>3.662905</td>\n",
       "      <td>adult</td>\n",
       "      <td>NN</td>\n",
       "      <td>1267</td>\n",
       "      <td>lore</td>\n",
       "      <td>0.84</td>\n",
       "    </tr>\n",
       "    <tr>\n",
       "      <th>0</th>\n",
       "      <td>0.502814</td>\n",
       "      <td>1.00</td>\n",
       "      <td>1.00</td>\n",
       "      <td>1.000</td>\n",
       "      <td>1.000000</td>\n",
       "      <td>3.433006</td>\n",
       "      <td>adult</td>\n",
       "      <td>NN</td>\n",
       "      <td>1528</td>\n",
       "      <td>lore</td>\n",
       "      <td>0.84</td>\n",
       "    </tr>\n",
       "    <tr>\n",
       "      <th>0</th>\n",
       "      <td>0.528713</td>\n",
       "      <td>1.00</td>\n",
       "      <td>1.00</td>\n",
       "      <td>1.000</td>\n",
       "      <td>0.857143</td>\n",
       "      <td>3.512448</td>\n",
       "      <td>adult</td>\n",
       "      <td>NN</td>\n",
       "      <td>1585</td>\n",
       "      <td>lore</td>\n",
       "      <td>0.84</td>\n",
       "    </tr>\n",
       "    <tr>\n",
       "      <th>...</th>\n",
       "      <td>...</td>\n",
       "      <td>...</td>\n",
       "      <td>...</td>\n",
       "      <td>...</td>\n",
       "      <td>...</td>\n",
       "      <td>...</td>\n",
       "      <td>...</td>\n",
       "      <td>...</td>\n",
       "      <td>...</td>\n",
       "      <td>...</td>\n",
       "      <td>...</td>\n",
       "    </tr>\n",
       "    <tr>\n",
       "      <th>0</th>\n",
       "      <td>0.704190</td>\n",
       "      <td>0.72</td>\n",
       "      <td>0.72</td>\n",
       "      <td>0.720</td>\n",
       "      <td>0.720000</td>\n",
       "      <td>3.650696</td>\n",
       "      <td>german</td>\n",
       "      <td>SVM</td>\n",
       "      <td>87</td>\n",
       "      <td>lore_ratio</td>\n",
       "      <td>0.72</td>\n",
       "    </tr>\n",
       "    <tr>\n",
       "      <th>0</th>\n",
       "      <td>0.707269</td>\n",
       "      <td>0.72</td>\n",
       "      <td>0.48</td>\n",
       "      <td>0.432</td>\n",
       "      <td>0.514286</td>\n",
       "      <td>3.884725</td>\n",
       "      <td>german</td>\n",
       "      <td>SVM</td>\n",
       "      <td>88</td>\n",
       "      <td>lore_ratio</td>\n",
       "      <td>0.72</td>\n",
       "    </tr>\n",
       "    <tr>\n",
       "      <th>0</th>\n",
       "      <td>0.710508</td>\n",
       "      <td>0.72</td>\n",
       "      <td>0.72</td>\n",
       "      <td>0.576</td>\n",
       "      <td>0.514286</td>\n",
       "      <td>3.801690</td>\n",
       "      <td>german</td>\n",
       "      <td>SVM</td>\n",
       "      <td>8</td>\n",
       "      <td>lore_ratio</td>\n",
       "      <td>0.72</td>\n",
       "    </tr>\n",
       "    <tr>\n",
       "      <th>0</th>\n",
       "      <td>0.717252</td>\n",
       "      <td>0.72</td>\n",
       "      <td>0.24</td>\n",
       "      <td>0.432</td>\n",
       "      <td>0.308571</td>\n",
       "      <td>3.648168</td>\n",
       "      <td>german</td>\n",
       "      <td>SVM</td>\n",
       "      <td>98</td>\n",
       "      <td>lore_ratio</td>\n",
       "      <td>0.72</td>\n",
       "    </tr>\n",
       "    <tr>\n",
       "      <th>0</th>\n",
       "      <td>0.709821</td>\n",
       "      <td>0.72</td>\n",
       "      <td>0.72</td>\n",
       "      <td>0.576</td>\n",
       "      <td>0.411429</td>\n",
       "      <td>3.802771</td>\n",
       "      <td>german</td>\n",
       "      <td>SVM</td>\n",
       "      <td>99</td>\n",
       "      <td>lore_ratio</td>\n",
       "      <td>0.72</td>\n",
       "    </tr>\n",
       "  </tbody>\n",
       "</table>\n",
       "<p>5404 rows × 11 columns</p>\n",
       "</div>"
      ],
      "text/plain": [
       "    fidelity   hit  k_fid_3  k_fid_5   k_fid_7      perf      ds   bb   idx  \\\n",
       "0   0.850379  1.00     1.00    1.000  1.000000  3.698155   adult   NN  1016   \n",
       "0   0.905643  1.00     1.00    1.000  1.000000  3.930308   adult   NN  1021   \n",
       "0   0.741876  1.00     1.00    1.000  1.000000  3.662905   adult   NN  1267   \n",
       "0   0.502814  1.00     1.00    1.000  1.000000  3.433006   adult   NN  1528   \n",
       "0   0.528713  1.00     1.00    1.000  0.857143  3.512448   adult   NN  1585   \n",
       "..       ...   ...      ...      ...       ...       ...     ...  ...   ...   \n",
       "0   0.704190  0.72     0.72    0.720  0.720000  3.650696  german  SVM    87   \n",
       "0   0.707269  0.72     0.48    0.432  0.514286  3.884725  german  SVM    88   \n",
       "0   0.710508  0.72     0.72    0.576  0.514286  3.801690  german  SVM     8   \n",
       "0   0.717252  0.72     0.24    0.432  0.308571  3.648168  german  SVM    98   \n",
       "0   0.709821  0.72     0.72    0.576  0.411429  3.802771  german  SVM    99   \n",
       "\n",
       "          algo  ratio  \n",
       "0         lore   0.84  \n",
       "0         lore   0.84  \n",
       "0         lore   0.84  \n",
       "0         lore   0.84  \n",
       "0         lore   0.84  \n",
       "..         ...    ...  \n",
       "0   lore_ratio   0.72  \n",
       "0   lore_ratio   0.72  \n",
       "0   lore_ratio   0.72  \n",
       "0   lore_ratio   0.72  \n",
       "0   lore_ratio   0.72  \n",
       "\n",
       "[5404 rows x 11 columns]"
      ]
     },
     "execution_count": 15,
     "metadata": {},
     "output_type": "execute_result"
    }
   ],
   "source": [
    "df"
   ]
  },
  {
   "cell_type": "code",
   "execution_count": 16,
   "metadata": {},
   "outputs": [],
   "source": [
    "x = df.fidelity.unique()"
   ]
  },
  {
   "cell_type": "code",
   "execution_count": 17,
   "metadata": {},
   "outputs": [
    {
     "data": {
      "text/plain": [
       "numpy.ndarray"
      ]
     },
     "execution_count": 17,
     "metadata": {},
     "output_type": "execute_result"
    }
   ],
   "source": [
    "type(x)"
   ]
  },
  {
   "cell_type": "code",
   "execution_count": 18,
   "metadata": {},
   "outputs": [
    {
     "data": {
      "text/plain": [
       "fidelity      0.999003\n",
       "hit                1.0\n",
       "k_fid_3            1.0\n",
       "k_fid_5            1.0\n",
       "k_fid_7            1.0\n",
       "perf          4.161758\n",
       "ds               adult\n",
       "bb                  NN\n",
       "idx               7270\n",
       "algo        flore_0.04\n",
       "ratio              1.0\n",
       "Name: 0, dtype: object"
      ]
     },
     "execution_count": 18,
     "metadata": {},
     "output_type": "execute_result"
    }
   ],
   "source": [
    "df.iloc[1039]"
   ]
  },
  {
   "cell_type": "code",
   "execution_count": 19,
   "metadata": {},
   "outputs": [
    {
     "data": {
      "text/plain": [
       "0    0.850379\n",
       "0    0.905643\n",
       "0    0.741876\n",
       "0    0.502814\n",
       "0    0.528713\n",
       "       ...   \n",
       "0    0.704190\n",
       "0    0.707269\n",
       "0    0.710508\n",
       "0    0.717252\n",
       "0    0.709821\n",
       "Name: fidelity, Length: 5404, dtype: float64"
      ]
     },
     "execution_count": 19,
     "metadata": {},
     "output_type": "execute_result"
    }
   ],
   "source": [
    "pd.to_numeric(df.fidelity)"
   ]
  },
  {
   "cell_type": "code",
   "execution_count": 20,
   "metadata": {},
   "outputs": [
    {
     "data": {
      "text/plain": [
       "array([False, False, False, ..., False, False, False])"
      ]
     },
     "execution_count": 20,
     "metadata": {},
     "output_type": "execute_result"
    }
   ],
   "source": [
    "import numpy as np\n",
    "np.isnan(df.fidelity.unique())"
   ]
  },
  {
   "cell_type": "code",
   "execution_count": 21,
   "metadata": {},
   "outputs": [
    {
     "data": {
      "image/png": "[encoded data removed]",
      "text/plain": [
       "<Figure size 808.85x360 with 2 Axes>"
      ]
     },
     "metadata": {},
     "output_type": "display_data"
    },
    {
     "data": {
      "image/png": "[encoded data removed]",
      "text/plain": [
       "<Figure size 808.85x360 with 2 Axes>"
      ]
     },
     "metadata": {},
     "output_type": "display_data"
    },
    {
     "data": {
      "image/png": "[encoded data removed]",
      "text/plain": [
       "<Figure size 808.85x360 with 2 Axes>"
      ]
     },
     "metadata": {},
     "output_type": "display_data"
    }
   ],
   "source": [
    "\n",
    "# creating subplots\n",
    "sns.set_theme(style=\"whitegrid\")\n",
    "METRICS = ['fidelity', 'hit', 'ratio']\n",
    "for metric in METRICS:\n",
    "    # plotting columns\n",
    "    g = sns.catplot(\n",
    "        data = df,\n",
    "        kind = 'bar',\n",
    "        x='ds', \n",
    "        y=metric,\n",
    "        hue = 'algo',\n",
    "        col = 'bb',\n",
    "        hue_order=[\n",
    "            'lore', \n",
    "            'lore_ratio',  \n",
    "            'flore_0.02', \n",
    "            # 'flore_0.04'\n",
    "            ]\n",
    "\n",
    "    )\n",
    "\n",
    "\n",
    "    g.despine(left=True)\n",
    "    g.legend.set_title(metric)"
   ]
  },
  {
   "cell_type": "code",
   "execution_count": 22,
   "metadata": {},
   "outputs": [],
   "source": [
    "def plot_overlapped_graph(ds, metric, ax, newax, df):\n",
    "    sns.set_theme(style=\"whitegrid\", palette='pastel')\n",
    "\n",
    "    g = sns.barplot(\n",
    "        ax=ax,\n",
    "        data = df[df.ds == ds],\n",
    "        x='bb', \n",
    "        y=metric,\n",
    "        hue = 'algo',\n",
    "        hue_order=[\n",
    "            'lore_old', \n",
    "            # 'lore_ratio',  \n",
    "            'FLARE', \n",
    "            # 'flore_0.04'\n",
    "            ]\n",
    "\n",
    "    )\n",
    "    g.set(ylabel=None)\n",
    "    g.set(xlabel=f'Dataset = {ds}')\n",
    "    sns.despine(left=True)\n",
    "\n",
    "\n",
    "    sns.set_theme(style=\"whitegrid\")\n",
    "\n",
    "    j = sns.barplot(\n",
    "        ax=newax,\n",
    "        data = df[df.ds == ds],\n",
    "        x='bb', \n",
    "        y=metric,\n",
    "        hue = 'algo',\n",
    "        hue_order=[\n",
    "            # 'lore', \n",
    "            'LORE',  \n",
    "            'FLARE', \n",
    "            # 'flore_0.04'\n",
    "            ],\n",
    "\n",
    "\n",
    "    )\n",
    "    j.set(ylabel=None)\n",
    "    j.set(xlabel=f'Dataset = {ds}')\n",
    "    sns.despine(left=True)\n",
    "\n",
    "\n",
    "    # Hide legend from barplot\n",
    "    if ds != 'fico':\n",
    "       newax.get_legend().remove() \n",
    "    else:\n",
    "        handles, labels = newax.get_legend_handles_labels()\n",
    "        newax.legend(handles=handles[0:], labels=labels[0:])\n",
    "        sns.move_legend(newax, \"upper left\", bbox_to_anchor=(1, 1))\n",
    "\n",
    "\n",
    "    ll = g.legend()\n",
    "    ll.set_visible(False)\n",
    "    return j"
   ]
  },
  {
   "cell_type": "code",
   "execution_count": 23,
   "metadata": {},
   "outputs": [],
   "source": [
    "BLACK_BOXES = ['NN', 'SVM']"
   ]
  },
  {
   "cell_type": "code",
   "execution_count": 24,
   "metadata": {},
   "outputs": [],
   "source": [
    "ndf = df.copy()"
   ]
  },
  {
   "cell_type": "code",
   "execution_count": 25,
   "metadata": {},
   "outputs": [],
   "source": [
    "\n",
    "ndf.loc[ndf.algo == 'lore', 'algo'] = 'lore_old'\n",
    "ndf.loc[ndf.algo == 'lore_ratio', 'algo'] = 'LORE'\n",
    "ndf.loc[ndf.algo == 'flore_0.02', 'algo'] = 'FLARE'"
   ]
  },
  {
   "cell_type": "code",
   "execution_count": 27,
   "metadata": {},
   "outputs": [
    {
     "name": "stdout",
     "output_type": "stream",
     "text": [
      "fidelity\n",
      "hit\n",
      "ratio\n"
     ]
    },
    {
     "data": {
      "image/png": "[encoded data removed]",
      "text/plain": [
       "<Figure size 1080x360 with 8 Axes>"
      ]
     },
     "metadata": {},
     "output_type": "display_data"
    },
    {
     "data": {
      "image/png": "[encoded data removed]",
      "text/plain": [
       "<Figure size 1080x360 with 8 Axes>"
      ]
     },
     "metadata": {},
     "output_type": "display_data"
    },
    {
     "data": {
      "image/png": "[encoded data removed]",
      "text/plain": [
       "<Figure size 1080x360 with 8 Axes>"
      ]
     },
     "metadata": {},
     "output_type": "display_data"
    }
   ],
   "source": [
    "for metric in METRICS:\n",
    "    fig, axes = plt.subplots(1, 4, figsize=(15, 5))\n",
    "    # fig.suptitle(metric.capitalize())\n",
    "    print(metric)\n",
    "    for ds, ax in zip(DATASETS, axes):\n",
    "        newax = fig.add_axes(ax.get_position(), frameon=False)\n",
    "        plot_overlapped_graph(ds, metric, ax, newax, ndf)\n",
    "    # b = plot_overlapped_graph('SVM', 'fidelity', axes[1])\n",
    "\n",
    "    # Add legend to figure\n",
    "\n",
    "    # fig.legend(\n",
    "    #     [a, b], labels=['lore', 'flore']\n",
    "    # )"
   ]
  },
  {
   "cell_type": "code",
   "execution_count": null,
   "metadata": {},
   "outputs": [],
   "source": []
  }
 ],
 "metadata": {
  "kernelspec": {
   "display_name": "Python 3",
   "language": "python",
   "name": "python3"
  },
  "language_info": {
   "codemirror_mode": {
    "name": "ipython",
    "version": 3
   },
   "file_extension": ".py",
   "mimetype": "text/x-python",
   "name": "python",
   "nbconvert_exporter": "python",
   "pygments_lexer": "ipython3",
   "version": "3.10.0"
  },
  "orig_nbformat": 4,
  "vscode": {
   "interpreter": {
    "hash": "af1ec5f30c0a557b1715a24b6e946100a62ada978fff13c4c858a4775e4b80b4"
   }
  }
 },
 "nbformat": 4,
 "nbformat_minor": 2
}
