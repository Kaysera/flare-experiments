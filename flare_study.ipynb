{
 "cells": [
  {
   "cell_type": "code",
   "execution_count": 1,
   "metadata": {},
   "outputs": [],
   "source": [
    "import numpy as np\n",
    "import pandas as pd"
   ]
  },
  {
   "cell_type": "code",
   "execution_count": 2,
   "metadata": {},
   "outputs": [],
   "source": [
    "gdf = pd.read_csv('./flare_fine_tuning/global_df.csv')\n",
    "xdf = gdf[['dis_dist', 'dis_count']]"
   ]
  },
  {
   "cell_type": "code",
   "execution_count": 3,
   "metadata": {},
   "outputs": [
    {
     "data": {
      "text/html": [
       "<div>\n",
       "<style scoped>\n",
       "    .dataframe tbody tr th:only-of-type {\n",
       "        vertical-align: middle;\n",
       "    }\n",
       "\n",
       "    .dataframe tbody tr th {\n",
       "        vertical-align: top;\n",
       "    }\n",
       "\n",
       "    .dataframe thead th {\n",
       "        text-align: right;\n",
       "    }\n",
       "</style>\n",
       "<table border=\"1\" class=\"dataframe\">\n",
       "  <thead>\n",
       "    <tr style=\"text-align: right;\">\n",
       "      <th></th>\n",
       "      <th>dataset</th>\n",
       "      <th>blackbox</th>\n",
       "      <th>max_depth</th>\n",
       "      <th>neighborhood_size</th>\n",
       "      <th>min_examples</th>\n",
       "      <th>default_params</th>\n",
       "      <th>dis_dist</th>\n",
       "      <th>dis_count</th>\n",
       "      <th>plausibility</th>\n",
       "    </tr>\n",
       "  </thead>\n",
       "  <tbody>\n",
       "    <tr>\n",
       "      <th>0</th>\n",
       "      <td>adult</td>\n",
       "      <td>NN</td>\n",
       "      <td>md-1</td>\n",
       "      <td>ns1000</td>\n",
       "      <td>me10</td>\n",
       "      <td>True</td>\n",
       "      <td>0.118552</td>\n",
       "      <td>0.055417</td>\n",
       "      <td>1.834643</td>\n",
       "    </tr>\n",
       "    <tr>\n",
       "      <th>1</th>\n",
       "      <td>adult</td>\n",
       "      <td>NN</td>\n",
       "      <td>md-1</td>\n",
       "      <td>ns1000</td>\n",
       "      <td>me1</td>\n",
       "      <td>True</td>\n",
       "      <td>0.109348</td>\n",
       "      <td>0.053542</td>\n",
       "      <td>1.869029</td>\n",
       "    </tr>\n",
       "    <tr>\n",
       "      <th>2</th>\n",
       "      <td>adult</td>\n",
       "      <td>NN</td>\n",
       "      <td>md-1</td>\n",
       "      <td>ns1000</td>\n",
       "      <td>me3</td>\n",
       "      <td>True</td>\n",
       "      <td>0.113240</td>\n",
       "      <td>0.055208</td>\n",
       "      <td>1.846977</td>\n",
       "    </tr>\n",
       "    <tr>\n",
       "      <th>3</th>\n",
       "      <td>adult</td>\n",
       "      <td>NN</td>\n",
       "      <td>md-1</td>\n",
       "      <td>ns1000</td>\n",
       "      <td>me5</td>\n",
       "      <td>True</td>\n",
       "      <td>0.111652</td>\n",
       "      <td>0.056042</td>\n",
       "      <td>1.856472</td>\n",
       "    </tr>\n",
       "    <tr>\n",
       "      <th>4</th>\n",
       "      <td>adult</td>\n",
       "      <td>NN</td>\n",
       "      <td>md-1</td>\n",
       "      <td>ns1500</td>\n",
       "      <td>me10</td>\n",
       "      <td>True</td>\n",
       "      <td>0.122872</td>\n",
       "      <td>0.058958</td>\n",
       "      <td>1.868193</td>\n",
       "    </tr>\n",
       "    <tr>\n",
       "      <th>...</th>\n",
       "      <td>...</td>\n",
       "      <td>...</td>\n",
       "      <td>...</td>\n",
       "      <td>...</td>\n",
       "      <td>...</td>\n",
       "      <td>...</td>\n",
       "      <td>...</td>\n",
       "      <td>...</td>\n",
       "      <td>...</td>\n",
       "    </tr>\n",
       "    <tr>\n",
       "      <th>1019</th>\n",
       "      <td>german</td>\n",
       "      <td>SVM</td>\n",
       "      <td>md5</td>\n",
       "      <td>ns2000</td>\n",
       "      <td>me5</td>\n",
       "      <td>False</td>\n",
       "      <td>0.073000</td>\n",
       "      <td>0.036500</td>\n",
       "      <td>1.216583</td>\n",
       "    </tr>\n",
       "    <tr>\n",
       "      <th>1020</th>\n",
       "      <td>german</td>\n",
       "      <td>SVM</td>\n",
       "      <td>md5</td>\n",
       "      <td>ns500</td>\n",
       "      <td>me10</td>\n",
       "      <td>False</td>\n",
       "      <td>0.066000</td>\n",
       "      <td>0.033000</td>\n",
       "      <td>1.216740</td>\n",
       "    </tr>\n",
       "    <tr>\n",
       "      <th>1021</th>\n",
       "      <td>german</td>\n",
       "      <td>SVM</td>\n",
       "      <td>md5</td>\n",
       "      <td>ns500</td>\n",
       "      <td>me1</td>\n",
       "      <td>False</td>\n",
       "      <td>0.068500</td>\n",
       "      <td>0.034250</td>\n",
       "      <td>1.212956</td>\n",
       "    </tr>\n",
       "    <tr>\n",
       "      <th>1022</th>\n",
       "      <td>german</td>\n",
       "      <td>SVM</td>\n",
       "      <td>md5</td>\n",
       "      <td>ns500</td>\n",
       "      <td>me3</td>\n",
       "      <td>False</td>\n",
       "      <td>0.066000</td>\n",
       "      <td>0.033000</td>\n",
       "      <td>1.210471</td>\n",
       "    </tr>\n",
       "    <tr>\n",
       "      <th>1023</th>\n",
       "      <td>german</td>\n",
       "      <td>SVM</td>\n",
       "      <td>md5</td>\n",
       "      <td>ns500</td>\n",
       "      <td>me5</td>\n",
       "      <td>False</td>\n",
       "      <td>0.067000</td>\n",
       "      <td>0.033500</td>\n",
       "      <td>1.214466</td>\n",
       "    </tr>\n",
       "  </tbody>\n",
       "</table>\n",
       "<p>1024 rows × 9 columns</p>\n",
       "</div>"
      ],
      "text/plain": [
       "     dataset blackbox max_depth neighborhood_size min_examples  \\\n",
       "0      adult       NN      md-1            ns1000         me10   \n",
       "1      adult       NN      md-1            ns1000          me1   \n",
       "2      adult       NN      md-1            ns1000          me3   \n",
       "3      adult       NN      md-1            ns1000          me5   \n",
       "4      adult       NN      md-1            ns1500         me10   \n",
       "...      ...      ...       ...               ...          ...   \n",
       "1019  german      SVM       md5            ns2000          me5   \n",
       "1020  german      SVM       md5             ns500         me10   \n",
       "1021  german      SVM       md5             ns500          me1   \n",
       "1022  german      SVM       md5             ns500          me3   \n",
       "1023  german      SVM       md5             ns500          me5   \n",
       "\n",
       "      default_params  dis_dist  dis_count  plausibility  \n",
       "0               True  0.118552   0.055417      1.834643  \n",
       "1               True  0.109348   0.053542      1.869029  \n",
       "2               True  0.113240   0.055208      1.846977  \n",
       "3               True  0.111652   0.056042      1.856472  \n",
       "4               True  0.122872   0.058958      1.868193  \n",
       "...              ...       ...        ...           ...  \n",
       "1019           False  0.073000   0.036500      1.216583  \n",
       "1020           False  0.066000   0.033000      1.216740  \n",
       "1021           False  0.068500   0.034250      1.212956  \n",
       "1022           False  0.066000   0.033000      1.210471  \n",
       "1023           False  0.067000   0.033500      1.214466  \n",
       "\n",
       "[1024 rows x 9 columns]"
      ]
     },
     "execution_count": 3,
     "metadata": {},
     "output_type": "execute_result"
    }
   ],
   "source": [
    "gdf"
   ]
  },
  {
   "cell_type": "code",
   "execution_count": 4,
   "metadata": {},
   "outputs": [],
   "source": [
    "nor_df = (xdf-xdf.min())/(xdf.max()-xdf.min())"
   ]
  },
  {
   "cell_type": "code",
   "execution_count": 5,
   "metadata": {},
   "outputs": [
    {
     "data": {
      "text/plain": [
       "0       0.190211\n",
       "1       0.174946\n",
       "2       0.187553\n",
       "3       0.193065\n",
       "4       0.216116\n",
       "          ...   \n",
       "1019    0.046808\n",
       "1020    0.020596\n",
       "1021    0.029957\n",
       "1022    0.020596\n",
       "1023    0.024340\n",
       "Length: 1024, dtype: float64"
      ]
     },
     "execution_count": 5,
     "metadata": {},
     "output_type": "execute_result"
    }
   ],
   "source": [
    "nor_df.sum(axis=1)"
   ]
  },
  {
   "cell_type": "code",
   "execution_count": 6,
   "metadata": {},
   "outputs": [],
   "source": [
    "gdf['score']= nor_df.sum(axis=1)"
   ]
  },
  {
   "cell_type": "code",
   "execution_count": 7,
   "metadata": {},
   "outputs": [
    {
     "data": {
      "text/html": [
       "<div>\n",
       "<style scoped>\n",
       "    .dataframe tbody tr th:only-of-type {\n",
       "        vertical-align: middle;\n",
       "    }\n",
       "\n",
       "    .dataframe tbody tr th {\n",
       "        vertical-align: top;\n",
       "    }\n",
       "\n",
       "    .dataframe thead th {\n",
       "        text-align: right;\n",
       "    }\n",
       "</style>\n",
       "<table border=\"1\" class=\"dataframe\">\n",
       "  <thead>\n",
       "    <tr style=\"text-align: right;\">\n",
       "      <th></th>\n",
       "      <th>dataset</th>\n",
       "      <th>blackbox</th>\n",
       "      <th>max_depth</th>\n",
       "      <th>neighborhood_size</th>\n",
       "      <th>min_examples</th>\n",
       "      <th>default_params</th>\n",
       "      <th>dis_dist</th>\n",
       "      <th>dis_count</th>\n",
       "      <th>plausibility</th>\n",
       "      <th>score</th>\n",
       "      <th>conf_name</th>\n",
       "    </tr>\n",
       "  </thead>\n",
       "  <tbody>\n",
       "    <tr>\n",
       "      <th>0</th>\n",
       "      <td>adult</td>\n",
       "      <td>NN</td>\n",
       "      <td>md-1</td>\n",
       "      <td>ns1000</td>\n",
       "      <td>me10</td>\n",
       "      <td>True</td>\n",
       "      <td>0.118552</td>\n",
       "      <td>0.055417</td>\n",
       "      <td>1.834643</td>\n",
       "      <td>0.190211</td>\n",
       "      <td>md-1_ns1000_me10</td>\n",
       "    </tr>\n",
       "    <tr>\n",
       "      <th>1</th>\n",
       "      <td>adult</td>\n",
       "      <td>NN</td>\n",
       "      <td>md-1</td>\n",
       "      <td>ns1000</td>\n",
       "      <td>me1</td>\n",
       "      <td>True</td>\n",
       "      <td>0.109348</td>\n",
       "      <td>0.053542</td>\n",
       "      <td>1.869029</td>\n",
       "      <td>0.174946</td>\n",
       "      <td>md-1_ns1000_me1</td>\n",
       "    </tr>\n",
       "    <tr>\n",
       "      <th>2</th>\n",
       "      <td>adult</td>\n",
       "      <td>NN</td>\n",
       "      <td>md-1</td>\n",
       "      <td>ns1000</td>\n",
       "      <td>me3</td>\n",
       "      <td>True</td>\n",
       "      <td>0.113240</td>\n",
       "      <td>0.055208</td>\n",
       "      <td>1.846977</td>\n",
       "      <td>0.187553</td>\n",
       "      <td>md-1_ns1000_me3</td>\n",
       "    </tr>\n",
       "    <tr>\n",
       "      <th>3</th>\n",
       "      <td>adult</td>\n",
       "      <td>NN</td>\n",
       "      <td>md-1</td>\n",
       "      <td>ns1000</td>\n",
       "      <td>me5</td>\n",
       "      <td>True</td>\n",
       "      <td>0.111652</td>\n",
       "      <td>0.056042</td>\n",
       "      <td>1.856472</td>\n",
       "      <td>0.193065</td>\n",
       "      <td>md-1_ns1000_me5</td>\n",
       "    </tr>\n",
       "    <tr>\n",
       "      <th>4</th>\n",
       "      <td>adult</td>\n",
       "      <td>NN</td>\n",
       "      <td>md-1</td>\n",
       "      <td>ns1500</td>\n",
       "      <td>me10</td>\n",
       "      <td>True</td>\n",
       "      <td>0.122872</td>\n",
       "      <td>0.058958</td>\n",
       "      <td>1.868193</td>\n",
       "      <td>0.216116</td>\n",
       "      <td>md-1_ns1500_me10</td>\n",
       "    </tr>\n",
       "    <tr>\n",
       "      <th>...</th>\n",
       "      <td>...</td>\n",
       "      <td>...</td>\n",
       "      <td>...</td>\n",
       "      <td>...</td>\n",
       "      <td>...</td>\n",
       "      <td>...</td>\n",
       "      <td>...</td>\n",
       "      <td>...</td>\n",
       "      <td>...</td>\n",
       "      <td>...</td>\n",
       "      <td>...</td>\n",
       "    </tr>\n",
       "    <tr>\n",
       "      <th>1019</th>\n",
       "      <td>german</td>\n",
       "      <td>SVM</td>\n",
       "      <td>md5</td>\n",
       "      <td>ns2000</td>\n",
       "      <td>me5</td>\n",
       "      <td>False</td>\n",
       "      <td>0.073000</td>\n",
       "      <td>0.036500</td>\n",
       "      <td>1.216583</td>\n",
       "      <td>0.046808</td>\n",
       "      <td>md5_ns2000_me5</td>\n",
       "    </tr>\n",
       "    <tr>\n",
       "      <th>1020</th>\n",
       "      <td>german</td>\n",
       "      <td>SVM</td>\n",
       "      <td>md5</td>\n",
       "      <td>ns500</td>\n",
       "      <td>me10</td>\n",
       "      <td>False</td>\n",
       "      <td>0.066000</td>\n",
       "      <td>0.033000</td>\n",
       "      <td>1.216740</td>\n",
       "      <td>0.020596</td>\n",
       "      <td>md5_ns500_me10</td>\n",
       "    </tr>\n",
       "    <tr>\n",
       "      <th>1021</th>\n",
       "      <td>german</td>\n",
       "      <td>SVM</td>\n",
       "      <td>md5</td>\n",
       "      <td>ns500</td>\n",
       "      <td>me1</td>\n",
       "      <td>False</td>\n",
       "      <td>0.068500</td>\n",
       "      <td>0.034250</td>\n",
       "      <td>1.212956</td>\n",
       "      <td>0.029957</td>\n",
       "      <td>md5_ns500_me1</td>\n",
       "    </tr>\n",
       "    <tr>\n",
       "      <th>1022</th>\n",
       "      <td>german</td>\n",
       "      <td>SVM</td>\n",
       "      <td>md5</td>\n",
       "      <td>ns500</td>\n",
       "      <td>me3</td>\n",
       "      <td>False</td>\n",
       "      <td>0.066000</td>\n",
       "      <td>0.033000</td>\n",
       "      <td>1.210471</td>\n",
       "      <td>0.020596</td>\n",
       "      <td>md5_ns500_me3</td>\n",
       "    </tr>\n",
       "    <tr>\n",
       "      <th>1023</th>\n",
       "      <td>german</td>\n",
       "      <td>SVM</td>\n",
       "      <td>md5</td>\n",
       "      <td>ns500</td>\n",
       "      <td>me5</td>\n",
       "      <td>False</td>\n",
       "      <td>0.067000</td>\n",
       "      <td>0.033500</td>\n",
       "      <td>1.214466</td>\n",
       "      <td>0.024340</td>\n",
       "      <td>md5_ns500_me5</td>\n",
       "    </tr>\n",
       "  </tbody>\n",
       "</table>\n",
       "<p>1024 rows × 11 columns</p>\n",
       "</div>"
      ],
      "text/plain": [
       "     dataset blackbox max_depth neighborhood_size min_examples  \\\n",
       "0      adult       NN      md-1            ns1000         me10   \n",
       "1      adult       NN      md-1            ns1000          me1   \n",
       "2      adult       NN      md-1            ns1000          me3   \n",
       "3      adult       NN      md-1            ns1000          me5   \n",
       "4      adult       NN      md-1            ns1500         me10   \n",
       "...      ...      ...       ...               ...          ...   \n",
       "1019  german      SVM       md5            ns2000          me5   \n",
       "1020  german      SVM       md5             ns500         me10   \n",
       "1021  german      SVM       md5             ns500          me1   \n",
       "1022  german      SVM       md5             ns500          me3   \n",
       "1023  german      SVM       md5             ns500          me5   \n",
       "\n",
       "      default_params  dis_dist  dis_count  plausibility     score  \\\n",
       "0               True  0.118552   0.055417      1.834643  0.190211   \n",
       "1               True  0.109348   0.053542      1.869029  0.174946   \n",
       "2               True  0.113240   0.055208      1.846977  0.187553   \n",
       "3               True  0.111652   0.056042      1.856472  0.193065   \n",
       "4               True  0.122872   0.058958      1.868193  0.216116   \n",
       "...              ...       ...        ...           ...       ...   \n",
       "1019           False  0.073000   0.036500      1.216583  0.046808   \n",
       "1020           False  0.066000   0.033000      1.216740  0.020596   \n",
       "1021           False  0.068500   0.034250      1.212956  0.029957   \n",
       "1022           False  0.066000   0.033000      1.210471  0.020596   \n",
       "1023           False  0.067000   0.033500      1.214466  0.024340   \n",
       "\n",
       "             conf_name  \n",
       "0     md-1_ns1000_me10  \n",
       "1      md-1_ns1000_me1  \n",
       "2      md-1_ns1000_me3  \n",
       "3      md-1_ns1000_me5  \n",
       "4     md-1_ns1500_me10  \n",
       "...                ...  \n",
       "1019    md5_ns2000_me5  \n",
       "1020    md5_ns500_me10  \n",
       "1021     md5_ns500_me1  \n",
       "1022     md5_ns500_me3  \n",
       "1023     md5_ns500_me5  \n",
       "\n",
       "[1024 rows x 11 columns]"
      ]
     },
     "execution_count": 7,
     "metadata": {},
     "output_type": "execute_result"
    }
   ],
   "source": [
    "gdf['conf_name'] = gdf.max_depth + '_' + gdf.neighborhood_size + '_' + gdf.min_examples\n",
    "gdf\n"
   ]
  },
  {
   "cell_type": "code",
   "execution_count": 18,
   "metadata": {},
   "outputs": [
    {
     "data": {
      "text/plain": [
       "'md3_ns1500_me1'"
      ]
     },
     "execution_count": 18,
     "metadata": {},
     "output_type": "execute_result"
    }
   ],
   "source": [
    "# Best configuration in general\n",
    "cn = gdf.groupby(['conf_name']).mean().sort_values(by='score').head(1).index[0]\n",
    "cn"
   ]
  },
  {
   "cell_type": "code",
   "execution_count": 35,
   "metadata": {},
   "outputs": [
    {
     "data": {
      "text/plain": [
       "'md3_ns500_me1'"
      ]
     },
     "execution_count": 35,
     "metadata": {},
     "output_type": "execute_result"
    }
   ],
   "source": [
    "# Best configuration for NN ADULT\n",
    "na = gdf[(gdf.blackbox == 'NN') & (gdf.dataset == 'adult')].groupby(['conf_name']).mean().sort_values(by='score').head(1).index[0]\n",
    "na"
   ]
  },
  {
   "cell_type": "code",
   "execution_count": 36,
   "metadata": {},
   "outputs": [
    {
     "data": {
      "text/plain": [
       "'md-1_ns500_me1'"
      ]
     },
     "execution_count": 36,
     "metadata": {},
     "output_type": "execute_result"
    }
   ],
   "source": [
    "# Best configuration for NN\n",
    "nc = gdf[(gdf.blackbox == 'NN') & (gdf.dataset == 'compas')].groupby(['conf_name']).mean().sort_values(by='score').head(1).index[0]\n",
    "nc"
   ]
  },
  {
   "cell_type": "code",
   "execution_count": 37,
   "metadata": {},
   "outputs": [
    {
     "data": {
      "text/plain": [
       "'md3_ns500_me10'"
      ]
     },
     "execution_count": 37,
     "metadata": {},
     "output_type": "execute_result"
    }
   ],
   "source": [
    "# Best configuration for NN\n",
    "ng = gdf[(gdf.blackbox == 'NN') & (gdf.dataset == 'german')].groupby(['conf_name']).mean().sort_values(by='score').head(1).index[0]\n",
    "ng"
   ]
  },
  {
   "cell_type": "code",
   "execution_count": 39,
   "metadata": {},
   "outputs": [
    {
     "data": {
      "text/plain": [
       "'md4_ns1500_me10'"
      ]
     },
     "execution_count": 39,
     "metadata": {},
     "output_type": "execute_result"
    }
   ],
   "source": [
    "# Best configuration for NN\n",
    "nf = gdf[(gdf.blackbox == 'NN') & (gdf.dataset == 'fico')].groupby(['conf_name']).mean().sort_values(by='score').head(1).index[0]\n",
    "nf"
   ]
  },
  {
   "cell_type": "code",
   "execution_count": 40,
   "metadata": {},
   "outputs": [
    {
     "data": {
      "text/plain": [
       "'md3_ns500_me5'"
      ]
     },
     "execution_count": 40,
     "metadata": {},
     "output_type": "execute_result"
    }
   ],
   "source": [
    "# Best configuration for NN\n",
    "sa = gdf[(gdf.blackbox == 'SVM') & (gdf.dataset == 'adult')].groupby(['conf_name']).mean().sort_values(by='score').head(1).index[0]\n",
    "sa"
   ]
  },
  {
   "cell_type": "code",
   "execution_count": 41,
   "metadata": {},
   "outputs": [
    {
     "data": {
      "text/plain": [
       "'md3_ns500_me3'"
      ]
     },
     "execution_count": 41,
     "metadata": {},
     "output_type": "execute_result"
    }
   ],
   "source": [
    "# Best configuration for NN\n",
    "sc = gdf[(gdf.blackbox == 'SVM') & (gdf.dataset == 'compas')].groupby(['conf_name']).mean().sort_values(by='score').head(1).index[0]\n",
    "sc"
   ]
  },
  {
   "cell_type": "code",
   "execution_count": 42,
   "metadata": {},
   "outputs": [
    {
     "data": {
      "text/plain": [
       "'md3_ns500_me3'"
      ]
     },
     "execution_count": 42,
     "metadata": {},
     "output_type": "execute_result"
    }
   ],
   "source": [
    "# Best configuration for NN\n",
    "sg = gdf[(gdf.blackbox == 'SVM') & (gdf.dataset == 'german')].groupby(['conf_name']).mean().sort_values(by='score').head(1).index[0]\n",
    "sg"
   ]
  },
  {
   "cell_type": "code",
   "execution_count": 43,
   "metadata": {},
   "outputs": [
    {
     "data": {
      "text/plain": [
       "'md4_ns2000_me5'"
      ]
     },
     "execution_count": 43,
     "metadata": {},
     "output_type": "execute_result"
    }
   ],
   "source": [
    "# Best configuration for NN\n",
    "sf = gdf[(gdf.blackbox == 'SVM') & (gdf.dataset == 'fico')].groupby(['conf_name']).mean().sort_values(by='score').head(1).index[0]\n",
    "sf"
   ]
  },
  {
   "cell_type": "code",
   "execution_count": 42,
   "metadata": {},
   "outputs": [],
   "source": [
    "gdf[(gdf['conf_name'] == cn) & (gdf['default_params'])][['dataset', 'blackbox', 'dis_dist', 'dis_count', 'plausibility']].to_csv('./flore_fine_tuning/best_conf.csv', index=None)"
   ]
  },
  {
   "cell_type": "code",
   "execution_count": 44,
   "metadata": {},
   "outputs": [],
   "source": [
    "configs = {\n",
    "    ('SVM', 'adult'): sa,\n",
    "    ('SVM', 'compas'): sc,\n",
    "    ('SVM', 'german'): sg,\n",
    "    ('SVM', 'fico'): sf,\n",
    "    ('NN', 'adult'): na,\n",
    "    ('NN', 'compas'): nc,\n",
    "    ('NN', 'german'): ng,\n",
    "    ('NN', 'fico'): nf\n",
    "}"
   ]
  },
  {
   "cell_type": "code",
   "execution_count": 45,
   "metadata": {},
   "outputs": [
    {
     "data": {
      "text/plain": [
       "{('SVM', 'adult'): 'md3_ns500_me5',\n",
       " ('SVM', 'compas'): 'md3_ns500_me3',\n",
       " ('SVM', 'german'): 'md3_ns500_me3',\n",
       " ('SVM', 'fico'): 'md4_ns2000_me5',\n",
       " ('NN', 'adult'): 'md3_ns500_me1',\n",
       " ('NN', 'compas'): 'md-1_ns500_me1',\n",
       " ('NN', 'german'): 'md3_ns500_me10',\n",
       " ('NN', 'fico'): 'md4_ns1500_me10'}"
      ]
     },
     "execution_count": 45,
     "metadata": {},
     "output_type": "execute_result"
    }
   ],
   "source": [
    "configs"
   ]
  },
  {
   "cell_type": "code",
   "execution_count": null,
   "metadata": {},
   "outputs": [],
   "source": []
  }
 ],
 "metadata": {
  "kernelspec": {
   "display_name": "Python 3.10.0 ('.venv': venv)",
   "language": "python",
   "name": "python3"
  },
  "language_info": {
   "codemirror_mode": {
    "name": "ipython",
    "version": 3
   },
   "file_extension": ".py",
   "mimetype": "text/x-python",
   "name": "python",
   "nbconvert_exporter": "python",
   "pygments_lexer": "ipython3",
   "version": "3.10.0"
  },
  "orig_nbformat": 4,
  "vscode": {
   "interpreter": {
    "hash": "c0f3b5f4380db84d1f76470ec7b4cfc8a2e33d947317d4f6c68f625e2f1aa3a8"
   }
  }
 },
 "nbformat": 4,
 "nbformat_minor": 2
}
